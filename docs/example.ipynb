{
    "cells": [
        {
            "attachments": {},
            "cell_type": "markdown",
            "metadata": {},
            "source": [
                "# Example usage\n",
                "\n",
                "This notebook gives an example on how to use `pybrokk` in a project:\n",
                "\n",
                "In this example we start with a selection of a few top universities in Canada, and:\n",
                "\n",
                "|Function|input|output|\n",
                "|---|---|---|\n",
                "|`create_id()`| a list of url's| a list of unique url_id's|\n",
                "|`text_from_url()`| a list of url's| a dictionary of scraped raw text|\n",
                "|`duster()` | a list of url's | a daframe where the outputs of `create_id()` and `text_from_url()` are concatonated|\n",
                "|`bow()`|the output of `duster()`| a dataframe of bag of words appended to the input dataframe.|\n",
                "\n",
                "## List of url's\n",
                "Here is the list of university urls that will be used in this example:\n",
                "- University of Toronto: https://www.utoronto.ca/\n",
                "- University of British Columbia: https://www.ubc.ca/\n",
                "- McGill University: https://www.mcgill.ca/\n",
                "- Queen's University: https://www.queensu.ca/"
            ]
        },
        {
            "attachments": {},
            "cell_type": "markdown",
            "metadata": {},
            "source": [
                "## Imports"
            ]
        },
        {
            "cell_type": "code",
            "execution_count": 21,
            "metadata": {},
            "outputs": [],
            "source": [
                "from pybrokk.pybrokk import create_id, text_from_url, duster, bow\n",
                "import requests\n",
                "import pandas as pd\n",
                "from bs4 import BeautifulSoup\n",
                "import pandas as pd\n",
                "from sklearn.feature_extraction.text import CountVectorizer"
            ]
        },
        {
            "attachments": {},
            "cell_type": "markdown",
            "metadata": {},
            "source": [
                "## Example input\n",
                "\n",
                "According to the list of universities mentioned above, here is a sample input we need for some functions in this package:\n"
            ]
        },
        {
            "cell_type": "code",
            "execution_count": 23,
            "metadata": {},
            "outputs": [],
            "source": [
                "urls = ['https://www.utoronto.ca/',\n",
                "         'https://www.ubc.ca/',\n",
                "         'https://www.mcgill.ca/',\n",
                "         'https://www.queensu.ca/']"
            ]
        },
        {
            "attachments": {},
            "cell_type": "markdown",
            "metadata": {},
            "source": [
                "## `create_id()`: \n",
                "### Create unique ID's for a list of urls."
            ]
        },
        {
            "cell_type": "code",
            "execution_count": 24,
            "metadata": {},
            "outputs": [
                {
                    "data": {
                        "text/plain": [
                            "['utoronto1', 'ubc1', 'mcgill1', 'queensu1']"
                        ]
                    },
                    "execution_count": 24,
                    "metadata": {},
                    "output_type": "execute_result"
                }
            ],
            "source": [
                "url_ids = create_id(urls)\n",
                "url_ids"
            ]
        },
        {
            "attachments": {},
            "cell_type": "markdown",
            "metadata": {},
            "source": [
                "## `text_from_url()`: \n",
                "### Create a dictionary in which keys are the url's and values are the raw text parsed by `BeautifulSoup`"
            ]
        },
        {
            "cell_type": "code",
            "execution_count": 25,
            "metadata": {},
            "outputs": [],
            "source": [
                "dictionary = text_from_url(urls)\n"
            ]
        },
        {
            "attachments": {},
            "cell_type": "markdown",
            "metadata": {},
            "source": [
                "A first component of this dictionary is going to look like:"
            ]
        },
        {
            "cell_type": "code",
            "execution_count": 26,
            "metadata": {},
            "outputs": [
                {
                    "data": {
                        "text/plain": [
                            "('https://www.utoronto.ca/',\n",
                            " \"\\n\\n\\n\\n\\n\\n\\n\\n\\n\\n\\n\\n\\n\\n\\n\\n\\n\\n\\n\\n\\n\\n\\n\\n\\n\\n\\nUniversity of Toronto\\n\\n\\n\\n\\n\\n\\n\\n\\n\\n\\n\\n\\n\\n\\n\\n\\n\\n\\n\\nSkip to main   content      \\n\\n\\n \\n\\n\\n\\n\\n\\n\\n\\n\\n\\n\\n\\n\\n\\nEmail\\nQuercus\\nAcorn\\nUCheck\\n\\n\\n\\n \\nJump ToNews & Media\\nAbout U of T\\nGive To U of T\\nAcademics\\nPrograms of Study\\nResearch & Innovation\\nUniversity Life\\nLibraries\\nA-Z Directory\\n\\nSearch\\n\\n \\n\\n\\n\\n\\n\\n\\n\\n\\n\\n\\n\\nEmail\\nQuercus\\nAcorn\\nUCheck\\n \\n\\n\\n\\n\\n \\nFuture Students\\nCurrent Students\\nAlumni\\n\\n \\n\\n\\n\\n \\nFaculty & Staff\\nDonors\\nVisitors\\n\\n \\n\\n\\n\\n\\n\\n \\nNews & Media\\nAbout U of T\\nGive to U of T\\nAcademics\\nResearch & Innovation\\nUniversity Life\\nLibraries\\nPrograms of Study\\nA to Z\\n\\n \\n\\n\\n\\n\\n\\n\\n\\n \\nFuture Students\\nCurrent Students\\nAlumni\\nFaculty & Staff\\nDonors\\nVisitors\\n\\n \\n\\n\\n\\n\\n\\n\\n\\n\\n\\n\\n\\n\\n\\n            What can we help you with?          \\n\\n\\n\\n\\n\\n\\n\\n \\n\\n\\n \\n\\n\\n\\n \\n\\n\\n\\n \\n \\n\\n\\n\\n\\n\\n\\n\\n\\n\\n\\n\\n\\n\\n\\n\\n\\n\\n\\n\\n\\n\\n\\n\\n\\n\\n\\n\\n\\n\\n\\n\\n\\n\\n\\nU \\n                            of T News\\n                          \\n\\n\\n\\n\\n\\n\\n\\n\\n                          U of T community members recognized with the Order of Canada                        \\n\\n\\n\\n\\n                        [node:body]                      \\n\\n\\n                          More                        \\n\\n\\n\\n\\n\\n\\n\\n\\n\\n\\n\\n\\n \\n\\n\\n\\n\\n\\n\\n \\n\\n\\n\\n\\n\\nCampus Status \\n\\n\\n\\n\\n ok  \\n\\n \\n\\n\\n\\n\\n\\n\\n\\n\\n\\n\\xa0\\n\\n\\n\\n\\n\\nYour guide to the U of T community\\n\\nVisit UTogether\\n\\n\\n\\n\\n\\n\\n\\n\\n\\n\\n\\nLatest news\\n\\n\\n\\n\\n\\n\\n\\n\\n\\n  \\n    \\n      January 27, 2023\\n      \\n\\n‘Putting people front and centre’: Historian Anna Shternshis keeps Holocaust survivors' stories alive\\n\\n\\n\\n \\n\\n\\n\\n\\n\\n\\n\\n  \\n    \\n      January 27, 2023\\n      \\n\\nCanadian researchers will have access to next-generation radio astronomy observatory\\n\\n\\n\\n\\n  \\n    \\n      January 26, 2023\\n      \\n\\nStars in the same constellation: How the space and health fields benefit from each other’s innovations\\n\\n\\n\\n \\n\\n\\n\\nMORE U OF T NEWS\\n\\n\\n\\n\\n\\n\\nUpcoming events\\n\\n\\n\\n\\n\\n      Upcoming Events - Home    \\n\\n\\n\\n\\n\\nFebruary 2, 2023\\nRe/Viewing, Re/Visioning, and Re/Imagining Black Canada Symposium\\nFebruary 2, 2023\\nBook Launch and Concert with Amir Issaa\\nFebruary 3, 2023\\nResearch Program Planning Workshop III \\n \\n\\n\\n\\n\\n\\nMORE Events\\n\\n\\n\\n\\n\\n\\n\\n\\n\\n\\nU of T Celebrates\\nThe University of Toronto is home to some of the world’s top faculty, students, alumni and staff. U of T Celebrates recognizes their award-winning accomplishments.\\n\\nExplore U of T Celebrates\\n\\n\\n\\n\\n\\nRESEARCH & INNOVATION\\n\\nAngela Schoellig recognized with\\nArthur B. McDonald Fellowship\\n\\n\\n\\n\\n\\n\\n\\n\\n\\n\\n\\n\\n\\n\\n\\n\\n\\n\\n\\n\\n\\n\\n\\n\\n\\nIn our latest issue: Meet the U of T alum pushing the boundaries of what computers can do; addressing Canada’s racial health gap; investigating crime, one fake body at a time. Plus: Ukrainian students find a haven at U of T; the future of urban farming and more\\n\\xa0\\nExplore the issue\\n\\n\\n\\n\\n\\n\\n\\n\\n\\n\\n\\n\\n\\n                                    Profile                              \\nPeople\\nThe Costs of Extraction\\nKristen Bos investigates how pollution has affected – and continues to affect – Indigenous communities\\n\\n\\n\\n\\n\\n\\n\\n\\n\\n \\n\\n \\n\\n \\n\\n\\n\\n\\n\\n \\n\\n Future Students\\nCurrent Students\\nAlumni\\nFaculty & Staff\\nDonors\\nVisitors\\n  News & Media\\nAbout U of T\\nGive to U of T\\nAcademics\\nPrograms of Study\\nResearch & Innovation\\nUniversity Life\\nLibraries\\nA-Z Directory\\n  \\n\\n Contacts\\nCareers\\nAccessibility\\nPrivacy\\nSite Feedback\\nSite Map\\n  St. George Campus\\nMississauga Campus\\nScarborough Campus\\nCampus Maps\\nCampus Safety\\n  \\n\\n\\n ok  \\n\\n  \\n\\n \\n\\n\\n\\n \\nStatement of Land Acknowledgement\\nWe wish to acknowledge this land on which the University of Toronto operates. For thousands of years it has been the traditional land of the Huron-Wendat, the Seneca, and the Mississaugas of the Credit. Today, this meeting place is still the home to many Indigenous people from across Turtle Island and we are grateful to have the opportunity to work on this land.\\xa0Read about U of T’s Statement of Land Acknowledgement.\\n\\n \\n\\n \\n\\n\\n\\n\\n\\n\\n\\n\\n\\nSOCIAL MEDIA DIRECTORY\\n\\n\\nUNIVERSITY OF TORONTO - SINCE 1827\\n\\n\\n\\n \\n\\n\\n\\n \\n\\n\\n\\n\\n\\n\\n\")"
                        ]
                    },
                    "execution_count": 26,
                    "metadata": {},
                    "output_type": "execute_result"
                }
            ],
            "source": [
                "list(dictionary.items())[0]"
            ]
        },
        {
            "attachments": {},
            "cell_type": "markdown",
            "metadata": {},
            "source": [
                "## `duster()`:\n",
                "### Create a dataframe out of the outputs of `create_id()` and `text_from_url()`"
            ]
        },
        {
            "cell_type": "code",
            "execution_count": 27,
            "metadata": {},
            "outputs": [
                {
                    "data": {
                        "text/html": [
                            "<div>\n",
                            "<style scoped>\n",
                            "    .dataframe tbody tr th:only-of-type {\n",
                            "        vertical-align: middle;\n",
                            "    }\n",
                            "\n",
                            "    .dataframe tbody tr th {\n",
                            "        vertical-align: top;\n",
                            "    }\n",
                            "\n",
                            "    .dataframe thead th {\n",
                            "        text-align: right;\n",
                            "    }\n",
                            "</style>\n",
                            "<table border=\"1\" class=\"dataframe\">\n",
                            "  <thead>\n",
                            "    <tr style=\"text-align: right;\">\n",
                            "      <th></th>\n",
                            "      <th>url</th>\n",
                            "      <th>raw_text</th>\n",
                            "    </tr>\n",
                            "    <tr>\n",
                            "      <th>id</th>\n",
                            "      <th></th>\n",
                            "      <th></th>\n",
                            "    </tr>\n",
                            "  </thead>\n",
                            "  <tbody>\n",
                            "    <tr>\n",
                            "      <th>utoronto1</th>\n",
                            "      <td>https://www.utoronto.ca/</td>\n",
                            "      <td>University of TorontoSkip to main   content   ...</td>\n",
                            "    </tr>\n",
                            "    <tr>\n",
                            "      <th>ubc1</th>\n",
                            "      <td>https://www.ubc.ca/</td>\n",
                            "      <td>The University of British ColumbiaSkip to main...</td>\n",
                            "    </tr>\n",
                            "    <tr>\n",
                            "      <th>mcgill1</th>\n",
                            "      <td>https://www.mcgill.ca/</td>\n",
                            "      <td>McGill UniversityWINTER 2023 / HIVER 2023A saf...</td>\n",
                            "    </tr>\n",
                            "    <tr>\n",
                            "      <th>queensu1</th>\n",
                            "      <td>https://www.queensu.ca/</td>\n",
                            "      <td>Home | Queen's UniversitySkip to main content ...</td>\n",
                            "    </tr>\n",
                            "  </tbody>\n",
                            "</table>\n",
                            "</div>"
                        ],
                        "text/plain": [
                            "                                url  \\\n",
                            "id                                    \n",
                            "utoronto1  https://www.utoronto.ca/   \n",
                            "ubc1            https://www.ubc.ca/   \n",
                            "mcgill1      https://www.mcgill.ca/   \n",
                            "queensu1    https://www.queensu.ca/   \n",
                            "\n",
                            "                                                    raw_text  \n",
                            "id                                                            \n",
                            "utoronto1  University of TorontoSkip to main   content   ...  \n",
                            "ubc1       The University of British ColumbiaSkip to main...  \n",
                            "mcgill1    McGill UniversityWINTER 2023 / HIVER 2023A saf...  \n",
                            "queensu1   Home | Queen's UniversitySkip to main content ...  "
                        ]
                    },
                    "execution_count": 27,
                    "metadata": {},
                    "output_type": "execute_result"
                }
            ],
            "source": [
                "df = duster(urls)\n",
                "df"
            ]
        },
        {
            "attachments": {},
            "cell_type": "markdown",
            "metadata": {},
            "source": [
                "## `bow()`:\n",
                "### Create a dataframe of bag of words appended to the input dataframe."
            ]
        },
        {
            "cell_type": "code",
            "execution_count": 28,
            "metadata": {},
            "outputs": [
                {
                    "data": {
                        "text/html": [
                            "<div>\n",
                            "<style scoped>\n",
                            "    .dataframe tbody tr th:only-of-type {\n",
                            "        vertical-align: middle;\n",
                            "    }\n",
                            "\n",
                            "    .dataframe tbody tr th {\n",
                            "        vertical-align: top;\n",
                            "    }\n",
                            "\n",
                            "    .dataframe thead th {\n",
                            "        text-align: right;\n",
                            "    }\n",
                            "</style>\n",
                            "<table border=\"1\" class=\"dataframe\">\n",
                            "  <thead>\n",
                            "    <tr style=\"text-align: right;\">\n",
                            "      <th></th>\n",
                            "      <th>url</th>\n",
                            "      <th>raw_text</th>\n",
                            "      <th>0g4get</th>\n",
                            "      <th>10</th>\n",
                            "      <th>15</th>\n",
                            "      <th>1827</th>\n",
                            "      <th>18th</th>\n",
                            "      <th>19</th>\n",
                            "      <th>1v7tel</th>\n",
                            "      <th>1z4tel</th>\n",
                            "      <th>...</th>\n",
                            "      <th>working</th>\n",
                            "      <th>workshop</th>\n",
                            "      <th>world</th>\n",
                            "      <th>year</th>\n",
                            "      <th>years</th>\n",
                            "      <th>you</th>\n",
                            "      <th>younger</th>\n",
                            "      <th>your</th>\n",
                            "      <th>youth</th>\n",
                            "      <th>zsocial</th>\n",
                            "    </tr>\n",
                            "    <tr>\n",
                            "      <th>id</th>\n",
                            "      <th></th>\n",
                            "      <th></th>\n",
                            "      <th></th>\n",
                            "      <th></th>\n",
                            "      <th></th>\n",
                            "      <th></th>\n",
                            "      <th></th>\n",
                            "      <th></th>\n",
                            "      <th></th>\n",
                            "      <th></th>\n",
                            "      <th></th>\n",
                            "      <th></th>\n",
                            "      <th></th>\n",
                            "      <th></th>\n",
                            "      <th></th>\n",
                            "      <th></th>\n",
                            "      <th></th>\n",
                            "      <th></th>\n",
                            "      <th></th>\n",
                            "      <th></th>\n",
                            "      <th></th>\n",
                            "    </tr>\n",
                            "  </thead>\n",
                            "  <tbody>\n",
                            "    <tr>\n",
                            "      <th>utoronto1</th>\n",
                            "      <td>https://www.utoronto.ca/</td>\n",
                            "      <td>University of TorontoSkip to main   content   ...</td>\n",
                            "      <td>0</td>\n",
                            "      <td>0</td>\n",
                            "      <td>0</td>\n",
                            "      <td>1</td>\n",
                            "      <td>0</td>\n",
                            "      <td>0</td>\n",
                            "      <td>0</td>\n",
                            "      <td>0</td>\n",
                            "      <td>...</td>\n",
                            "      <td>0</td>\n",
                            "      <td>1</td>\n",
                            "      <td>1</td>\n",
                            "      <td>0</td>\n",
                            "      <td>1</td>\n",
                            "      <td>1</td>\n",
                            "      <td>0</td>\n",
                            "      <td>1</td>\n",
                            "      <td>0</td>\n",
                            "      <td>0</td>\n",
                            "    </tr>\n",
                            "    <tr>\n",
                            "      <th>ubc1</th>\n",
                            "      <td>https://www.ubc.ca/</td>\n",
                            "      <td>The University of British ColumbiaSkip to main...</td>\n",
                            "      <td>0</td>\n",
                            "      <td>0</td>\n",
                            "      <td>0</td>\n",
                            "      <td>0</td>\n",
                            "      <td>0</td>\n",
                            "      <td>1</td>\n",
                            "      <td>1</td>\n",
                            "      <td>1</td>\n",
                            "      <td>...</td>\n",
                            "      <td>0</td>\n",
                            "      <td>0</td>\n",
                            "      <td>1</td>\n",
                            "      <td>0</td>\n",
                            "      <td>0</td>\n",
                            "      <td>0</td>\n",
                            "      <td>0</td>\n",
                            "      <td>0</td>\n",
                            "      <td>0</td>\n",
                            "      <td>0</td>\n",
                            "    </tr>\n",
                            "    <tr>\n",
                            "      <th>mcgill1</th>\n",
                            "      <td>https://www.mcgill.ca/</td>\n",
                            "      <td>McGill UniversityWINTER 2023 / HIVER 2023A saf...</td>\n",
                            "      <td>1</td>\n",
                            "      <td>0</td>\n",
                            "      <td>0</td>\n",
                            "      <td>0</td>\n",
                            "      <td>1</td>\n",
                            "      <td>0</td>\n",
                            "      <td>0</td>\n",
                            "      <td>0</td>\n",
                            "      <td>...</td>\n",
                            "      <td>0</td>\n",
                            "      <td>0</td>\n",
                            "      <td>1</td>\n",
                            "      <td>1</td>\n",
                            "      <td>0</td>\n",
                            "      <td>0</td>\n",
                            "      <td>0</td>\n",
                            "      <td>3</td>\n",
                            "      <td>0</td>\n",
                            "      <td>0</td>\n",
                            "    </tr>\n",
                            "    <tr>\n",
                            "      <th>queensu1</th>\n",
                            "      <td>https://www.queensu.ca/</td>\n",
                            "      <td>Home | Queen's UniversitySkip to main content ...</td>\n",
                            "      <td>0</td>\n",
                            "      <td>1</td>\n",
                            "      <td>3</td>\n",
                            "      <td>0</td>\n",
                            "      <td>0</td>\n",
                            "      <td>2</td>\n",
                            "      <td>0</td>\n",
                            "      <td>0</td>\n",
                            "      <td>...</td>\n",
                            "      <td>1</td>\n",
                            "      <td>1</td>\n",
                            "      <td>0</td>\n",
                            "      <td>8</td>\n",
                            "      <td>0</td>\n",
                            "      <td>2</td>\n",
                            "      <td>1</td>\n",
                            "      <td>1</td>\n",
                            "      <td>1</td>\n",
                            "      <td>1</td>\n",
                            "    </tr>\n",
                            "  </tbody>\n",
                            "</table>\n",
                            "<p>4 rows × 838 columns</p>\n",
                            "</div>"
                        ],
                        "text/plain": [
                            "                                url  \\\n",
                            "id                                    \n",
                            "utoronto1  https://www.utoronto.ca/   \n",
                            "ubc1            https://www.ubc.ca/   \n",
                            "mcgill1      https://www.mcgill.ca/   \n",
                            "queensu1    https://www.queensu.ca/   \n",
                            "\n",
                            "                                                    raw_text  0g4get  10  15  \\\n",
                            "id                                                                             \n",
                            "utoronto1  University of TorontoSkip to main   content   ...       0   0   0   \n",
                            "ubc1       The University of British ColumbiaSkip to main...       0   0   0   \n",
                            "mcgill1    McGill UniversityWINTER 2023 / HIVER 2023A saf...       1   0   0   \n",
                            "queensu1   Home | Queen's UniversitySkip to main content ...       0   1   3   \n",
                            "\n",
                            "           1827  18th  19  1v7tel  1z4tel  ...  working  workshop  world  \\\n",
                            "id                                         ...                             \n",
                            "utoronto1     1     0   0       0       0  ...        0         1      1   \n",
                            "ubc1          0     0   1       1       1  ...        0         0      1   \n",
                            "mcgill1       0     1   0       0       0  ...        0         0      1   \n",
                            "queensu1      0     0   2       0       0  ...        1         1      0   \n",
                            "\n",
                            "           year  years  you  younger  your  youth  zsocial  \n",
                            "id                                                          \n",
                            "utoronto1     0      1    1        0     1      0        0  \n",
                            "ubc1          0      0    0        0     0      0        0  \n",
                            "mcgill1       1      0    0        0     3      0        0  \n",
                            "queensu1      8      0    2        1     1      1        1  \n",
                            "\n",
                            "[4 rows x 838 columns]"
                        ]
                    },
                    "execution_count": 28,
                    "metadata": {},
                    "output_type": "execute_result"
                }
            ],
            "source": [
                "df_bow = bow(df)\n",
                "df_bow"
            ]
        },
        {
            "attachments": {},
            "cell_type": "markdown",
            "metadata": {},
            "source": [
                "The `df_bow` is going to be a slightly well-shaped dataframe which we always need to start with in our machine learning projects. "
            ]
        }
    ],
    "metadata": {
        "kernelspec": {
            "display_name": "524-python",
            "language": "python",
            "name": "python3"
        },
        "language_info": {
            "codemirror_mode": {
                "name": "ipython",
                "version": 3
            },
            "file_extension": ".py",
            "mimetype": "text/x-python",
            "name": "python",
            "nbconvert_exporter": "python",
            "pygments_lexer": "ipython3",
            "version": "3.9.15"
        },
        "vscode": {
            "interpreter": {
                "hash": "c998a2c10de7ef9a63cbdc42631226c55d2e5d0ab6ef46c3cbfa11a536767b0f"
            }
        }
    },
    "nbformat": 4,
    "nbformat_minor": 4
}
